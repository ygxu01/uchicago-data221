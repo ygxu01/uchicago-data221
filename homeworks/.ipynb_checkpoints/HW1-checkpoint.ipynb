{
 "cells": [
  {
   "cell_type": "markdown",
   "id": "32c6f4eb",
   "metadata": {},
   "source": [
    "## Question 1 "
   ]
  },
  {
   "cell_type": "code",
   "execution_count": 34,
   "id": "4284fdd9",
   "metadata": {},
   "outputs": [],
   "source": [
    "import matplotlib.pyplot as plt\n",
    "from scipy.optimize import minimize\n",
    "import numpy as np\n",
    "import pandas as pd\n",
    "import scipy.stats"
   ]
  },
  {
   "cell_type": "code",
   "execution_count": 20,
   "id": "1dcd84b9",
   "metadata": {},
   "outputs": [
    {
     "data": {
      "text/html": [
       "<div>\n",
       "<style scoped>\n",
       "    .dataframe tbody tr th:only-of-type {\n",
       "        vertical-align: middle;\n",
       "    }\n",
       "\n",
       "    .dataframe tbody tr th {\n",
       "        vertical-align: top;\n",
       "    }\n",
       "\n",
       "    .dataframe thead th {\n",
       "        text-align: right;\n",
       "    }\n",
       "</style>\n",
       "<table border=\"1\" class=\"dataframe\">\n",
       "  <thead>\n",
       "    <tr style=\"text-align: right;\">\n",
       "      <th></th>\n",
       "      <th>time</th>\n",
       "      <th>rate</th>\n",
       "    </tr>\n",
       "  </thead>\n",
       "  <tbody>\n",
       "    <tr>\n",
       "      <th>0</th>\n",
       "      <td>0.161</td>\n",
       "      <td>87.1</td>\n",
       "    </tr>\n",
       "    <tr>\n",
       "      <th>1</th>\n",
       "      <td>0.578</td>\n",
       "      <td>69.7</td>\n",
       "    </tr>\n",
       "    <tr>\n",
       "      <th>2</th>\n",
       "      <td>1.113</td>\n",
       "      <td>51.6</td>\n",
       "    </tr>\n",
       "    <tr>\n",
       "      <th>3</th>\n",
       "      <td>1.584</td>\n",
       "      <td>38.3</td>\n",
       "    </tr>\n",
       "    <tr>\n",
       "      <th>4</th>\n",
       "      <td>2.226</td>\n",
       "      <td>25.3</td>\n",
       "    </tr>\n",
       "    <tr>\n",
       "      <th>5</th>\n",
       "      <td>3.061</td>\n",
       "      <td>15.8</td>\n",
       "    </tr>\n",
       "    <tr>\n",
       "      <th>6</th>\n",
       "      <td>4.324</td>\n",
       "      <td>7.6</td>\n",
       "    </tr>\n",
       "    <tr>\n",
       "      <th>7</th>\n",
       "      <td>6.229</td>\n",
       "      <td>2.5</td>\n",
       "    </tr>\n",
       "  </tbody>\n",
       "</table>\n",
       "</div>"
      ],
      "text/plain": [
       "    time  rate\n",
       "0  0.161  87.1\n",
       "1  0.578  69.7\n",
       "2  1.113  51.6\n",
       "3  1.584  38.3\n",
       "4  2.226  25.3\n",
       "5  3.061  15.8\n",
       "6  4.324   7.6\n",
       "7  6.229   2.5"
      ]
     },
     "execution_count": 20,
     "metadata": {},
     "output_type": "execute_result"
    }
   ],
   "source": [
    "df = pd.DataFrame({\n",
    "    \"time\":[0.161,0.578,1.113,1.584,2.226,3.061,4.324,6.229],\n",
    "    \"rate\":[87.1,69.7,51.6,38.3,25.3,15.8,7.6,2.5]\n",
    "}\n",
    ")\n",
    "df"
   ]
  },
  {
   "cell_type": "code",
   "execution_count": 21,
   "id": "d350eb73",
   "metadata": {},
   "outputs": [],
   "source": [
    "x = df[\"time\"]\n",
    "y = df[\"rate\"]"
   ]
  },
  {
   "cell_type": "code",
   "execution_count": 39,
   "id": "0539a71f",
   "metadata": {},
   "outputs": [],
   "source": [
    "def loss_f(p):\n",
    "    a,b,c = p\n",
    "    f = (a * np.exp(-np.log(2) * x / c) + b)\n",
    "    error = y - f\n",
    "    return np.sum(error ** 2)\n"
   ]
  },
  {
   "cell_type": "code",
   "execution_count": 44,
   "id": "08ea1fed",
   "metadata": {},
   "outputs": [
    {
     "data": {
      "text/plain": [
       "      fun: 0.0815428410055276\n",
       " hess_inv: array([[ 3.32545623e+01,  1.67398014e+00, -3.96557665e-01],\n",
       "       [ 1.67398014e+00,  2.84158836e+00, -1.69208565e-01],\n",
       "       [-3.96557665e-01, -1.69208565e-01,  1.56415127e-02]])\n",
       "      jac: array([1.30385160e-08, 2.88709998e-08, 8.89413059e-07])\n",
       "  message: 'Optimization terminated successfully.'\n",
       "     nfev: 104\n",
       "      nit: 19\n",
       "     njev: 26\n",
       "   status: 0\n",
       "  success: True\n",
       "        x: array([9.71064913e+01, 3.75178010e-02, 1.17215883e+00])"
      ]
     },
     "execution_count": 44,
     "metadata": {},
     "output_type": "execute_result"
    }
   ],
   "source": [
    "thetahat = minimize(loss_f,[1,1,1],method = \"BFGS\")\n",
    "thetahat"
   ]
  },
  {
   "cell_type": "markdown",
   "id": "c713e09e",
   "metadata": {},
   "source": [
    "Unweighted results:   \n",
    "$A = 97.00091353$,   \n",
    "$B = -0.57488208$,  \n",
    "$time_{1/2} = 1.20490641$\n"
   ]
  },
  {
   "cell_type": "code",
   "execution_count": 42,
   "id": "9ce1ead6",
   "metadata": {},
   "outputs": [],
   "source": [
    "def loss_f2(p):\n",
    "    a,b,c = p\n",
    "    f = (a * np.exp(-np.log(2) * x / c) + b)\n",
    "    error = y - f\n",
    "    weighted = error/np.sqrt(y)\n",
    "    return np.sum(weighted ** 2)\n"
   ]
  },
  {
   "cell_type": "code",
   "execution_count": 45,
   "id": "08012760",
   "metadata": {},
   "outputs": [
    {
     "data": {
      "text/plain": [
       "      fun: 0.0815428410055276\n",
       " hess_inv: array([[ 3.32545623e+01,  1.67398014e+00, -3.96557665e-01],\n",
       "       [ 1.67398014e+00,  2.84158836e+00, -1.69208565e-01],\n",
       "       [-3.96557665e-01, -1.69208565e-01,  1.56415127e-02]])\n",
       "      jac: array([1.30385160e-08, 2.88709998e-08, 8.89413059e-07])\n",
       "  message: 'Optimization terminated successfully.'\n",
       "     nfev: 104\n",
       "      nit: 19\n",
       "     njev: 26\n",
       "   status: 0\n",
       "  success: True\n",
       "        x: array([9.71064913e+01, 3.75178010e-02, 1.17215883e+00])"
      ]
     },
     "execution_count": 45,
     "metadata": {},
     "output_type": "execute_result"
    }
   ],
   "source": [
    "thetahat = minimize(loss_f2,[1,1,1],method = \"BFGS\")\n",
    "thetahat"
   ]
  },
  {
   "cell_type": "markdown",
   "id": "119be2c7",
   "metadata": {},
   "source": [
    "Weighted results:   \n",
    "$A = 9.71064913e+01$,   \n",
    "$B =  3.75178010e-02$,  \n",
    "$time_{1/2} = 1.17215883e+00$"
   ]
  },
  {
   "cell_type": "markdown",
   "id": "56acd2b6",
   "metadata": {},
   "source": [
    "## Question 2\n"
   ]
  },
  {
   "cell_type": "code",
   "execution_count": null,
   "id": "ff682f17",
   "metadata": {},
   "outputs": [],
   "source": []
  }
 ],
 "metadata": {
  "kernelspec": {
   "display_name": "Python 3 (ipykernel)",
   "language": "python",
   "name": "python3"
  },
  "language_info": {
   "codemirror_mode": {
    "name": "ipython",
    "version": 3
   },
   "file_extension": ".py",
   "mimetype": "text/x-python",
   "name": "python",
   "nbconvert_exporter": "python",
   "pygments_lexer": "ipython3",
   "version": "3.9.13"
  }
 },
 "nbformat": 4,
 "nbformat_minor": 5
}
