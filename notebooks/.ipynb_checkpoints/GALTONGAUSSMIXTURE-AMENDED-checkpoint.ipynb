{
 "cells": [
  {
   "cell_type": "code",
   "execution_count": 1,
   "metadata": {},
   "outputs": [],
   "source": [
    "import matplotlib.pyplot as plt\n",
    "from scipy.optimize import minimize\n",
    "import numpy as np\n",
    "import pandas as pd\n",
    "import scipy.stats"
   ]
  },
  {
   "cell_type": "code",
   "execution_count": 2,
   "metadata": {},
   "outputs": [],
   "source": [
    "# Demo:  gaussian mixture model for one-dimensional data;\n",
    "# find maximum-likelihood parameters by writing a loss function\n",
    "# and optimizing it.\n",
    "# Examine simple 1d classifier for this 1d dataset."
   ]
  },
  {
   "cell_type": "code",
   "execution_count": 3,
   "metadata": {},
   "outputs": [],
   "source": [
    "# Here I load in a much-loved dataset from 1888, Francis Galton's heights of 900\n",
    "# adults and their parents.\n",
    "\n",
    "galton = pd.read_csv(\"../data/galton.csv\")\n",
    "galton.head()\n",
    "y = galton.childHeight.values"
   ]
  },
  {
   "cell_type": "code",
   "execution_count": 4,
   "metadata": {},
   "outputs": [
    {
     "data": {
      "text/plain": [
       "Text(0, 0.5, 'Number')"
      ]
     },
     "execution_count": 4,
     "metadata": {},
     "output_type": "execute_result"
    },
    {
     "data": {
      "image/png": "[encoded data removed]",
      "text/plain": [
       "<Figure size 432x288 with 1 Axes>"
      ]
     },
     "metadata": {
      "needs_background": "light"
     },
     "output_type": "display_data"
    }
   ],
   "source": [
    "plt.hist(galton.childHeight, bins=np.arange(55, 80) + .5) \n",
    "plt.xlabel(\"Height in inches\")\n",
    "plt.ylabel(\"Number\")"
   ]
  },
  {
   "cell_type": "markdown",
   "metadata": {},
   "source": [
    "To make sure I can use optimization, let's try a test.\n",
    "\n",
    "$$ LOSS_{SSE}(\\theta; y)  = \\sum (y-\\theta)^2 $$\n",
    "\n",
    "$$ \\hat{\\theta} = argmin_{\\theta} \\ \\  LOSS_{SSE} (\\theta; y) $$\n",
    "\n",
    "If I wanted to replace all my y with a constant,\n",
    "what number gives me the smallest summed error?\n",
    "\n"
   ]
  },
  {
   "cell_type": "code",
   "execution_count": 5,
   "metadata": {},
   "outputs": [],
   "source": [
    "# Here I define an extremely simple function.\n",
    "# This function sums the squared-differences between\n",
    "# each value in y and the paramter theta.\n",
    "def LOSS_SSE( theta):\n",
    "    assert len(theta) == 1\n",
    "    return np.sum( (y - theta)**2 ) "
   ]
  },
  {
   "cell_type": "code",
   "execution_count": 6,
   "metadata": {},
   "outputs": [
    {
     "data": {
      "text/plain": [
       "      fun: 11952.69953961456\n",
       " hess_inv: array([[0.00052716]])\n",
       "      jac: array([0.00012207])\n",
       "  message: 'Desired error not necessarily achieved due to precision loss.'\n",
       "     nfev: 106\n",
       "      nit: 4\n",
       "     njev: 47\n",
       "   status: 2\n",
       "  success: False\n",
       "        x: array([66.74593149])"
      ]
     },
     "execution_count": 6,
     "metadata": {},
     "output_type": "execute_result"
    }
   ],
   "source": [
    "thetahat = minimize(LOSS_SSE, 0)\n",
    "thetahat"
   ]
  },
  {
   "cell_type": "markdown",
   "metadata": {},
   "source": [
    "Declare victory, the value 66.75 inches minimizes the sum-squared differences from all 946 data points."
   ]
  },
  {
   "cell_type": "code",
   "execution_count": null,
   "metadata": {},
   "outputs": [],
   "source": []
  },
  {
   "cell_type": "code",
   "execution_count": 7,
   "metadata": {},
   "outputs": [],
   "source": [
    "# A slightly more elaborate model: normal \n",
    "def LOSS_NORMAL(parameter):\n",
    "    return np.sum( -scipy.stats.norm.logpdf( y, loc=parameter[0], scale=parameter[1])  )  "
   ]
  },
  {
   "cell_type": "code",
   "execution_count": 8,
   "metadata": {},
   "outputs": [
    {
     "data": {
      "text/plain": [
       "2516.314916873552"
      ]
     },
     "execution_count": 8,
     "metadata": {},
     "output_type": "execute_result"
    }
   ],
   "source": [
    "LOSS_NORMAL([66.7,3.5])"
   ]
  },
  {
   "cell_type": "code",
   "execution_count": 9,
   "metadata": {},
   "outputs": [
    {
     "data": {
      "text/plain": [
       "(17695.25369238376, 2516.314916873552, 17835.335325036813)"
      ]
     },
     "execution_count": 9,
     "metadata": {},
     "output_type": "execute_result"
    }
   ],
   "source": [
    "# Does it look like it has a minimum ? \n",
    "LOSS_NORMAL([86.7,3.5]), LOSS_NORMAL([66.7,3.5]), LOSS_NORMAL([46.7,3.5])"
   ]
  },
  {
   "cell_type": "code",
   "execution_count": null,
   "metadata": {},
   "outputs": [],
   "source": [
    "# Run library optimization funciton\n",
    "minimize(LOSS_NORMAL, [66, 3.5], method=\"BFGS\")"
   ]
  },
  {
   "cell_type": "markdown",
   "metadata": {},
   "source": [
    "Declare victory, now we have a mean and standard deviation that maximize the likelihood\n",
    "of the data given a normal distribution with location, scale parameters 66.745 and 3.577."
   ]
  },
  {
   "cell_type": "markdown",
   "metadata": {},
   "source": [
    "Wait just one minute."
   ]
  },
  {
   "cell_type": "code",
   "execution_count": 10,
   "metadata": {},
   "outputs": [
    {
     "data": {
      "text/plain": [
       "(66.74593147751605, 3.5773346010057634)"
      ]
     },
     "execution_count": 10,
     "metadata": {},
     "output_type": "execute_result"
    }
   ],
   "source": [
    "y.mean(), y.std()"
   ]
  },
  {
   "cell_type": "code",
   "execution_count": 11,
   "metadata": {},
   "outputs": [],
   "source": [
    "# Hmm. Right.  I have used a machine gun to shoot a squirrel."
   ]
  },
  {
   "cell_type": "code",
   "execution_count": null,
   "metadata": {},
   "outputs": [],
   "source": [
    "# Plot the Normal distribution fit and the data histogram:\n",
    "x = np.arange(55,80,.1)\n",
    "yhat_g = scipy.stats.norm.pdf(x, loc=66.7459, scale=3.577)\n",
    "plt.hist(y, bins=np.arange(55, 80))\n",
    "plt.plot(x,yhat_g *900)"
   ]
  },
  {
   "cell_type": "markdown",
   "metadata": {},
   "source": [
    "To get some insight into this likelihood function, \n",
    "$$ \\textrm{norm.logpdf}(x, mu, sigma) = c -  \\log \\sigma + {(x - \\mu)^2 \\over 2 \\sigma^2} $$\n",
    "Let's evaluate it on a 2d grid in $\\mu$ and $\\sigma$ and make contour plots:\n"
   ]
  },
  {
   "cell_type": "code",
   "execution_count": 12,
   "metadata": {},
   "outputs": [
    {
     "name": "stdout",
     "output_type": "stream",
     "text": [
      "(13, 39) (13, 39) (13, 39)\n"
     ]
    }
   ],
   "source": [
    "# This is going to evaluate our LOSS_NORMAL function on a grid\n",
    "xgrid = np.arange(55,80,2) \n",
    "ygrid = np.arange(0.5, 20.0, 0.5)\n",
    "xax, yax = np.meshgrid(xgrid, ygrid, indexing=\"ij\")\n",
    "z = np.zeros(xax.shape)\n",
    "print(xax.shape, yax.shape, z.shape)\n",
    "for i in range(len(xgrid)):\n",
    "    for j in range(len(ygrid)):\n",
    "        z[i,j]= LOSS_NORMAL((xgrid[i], ygrid[j]))\n"
   ]
  },
  {
   "cell_type": "code",
   "execution_count": null,
   "metadata": {},
   "outputs": [],
   "source": [
    "# Arright, I can't find how to plot the axes right without plt.contour and plt.contourf"
   ]
  },
  {
   "cell_type": "code",
   "execution_count": 13,
   "metadata": {},
   "outputs": [
    {
     "data": {
      "text/plain": [
       "Text(0, 0.5, 'posterior std')"
      ]
     },
     "execution_count": 13,
     "metadata": {},
     "output_type": "execute_result"
    },
    {
     "data": {
      "image/png": "[encoded data removed]",
      "text/plain": [
       "<Figure size 432x288 with 1 Axes>"
      ]
     },
     "metadata": {
      "needs_background": "light"
     },
     "output_type": "display_data"
    }
   ],
   "source": [
    "plt.contour(xax, yax, np.log(z), levels=30)\n",
    "plt.xlabel(\"posterior mean\")\n",
    "plt.ylabel(\"posterior std\")"
   ]
  },
  {
   "cell_type": "code",
   "execution_count": 14,
   "metadata": {},
   "outputs": [],
   "source": [
    "# It has an optimum.  (This is good.)"
   ]
  },
  {
   "cell_type": "markdown",
   "metadata": {},
   "source": [
    "You didn't really need a loss function to find mean and standard deviation of a\n",
    "collection of points.  \n",
    "\n",
    "Now consider this model:\n",
    "\n",
    "$$ P(x, \\mu_1, \\sigma_1, \\mu_2, \\sigma_2) = {1\\over 2} \\mathcal{N} (x; \\mu_1, \\sigma_1) + \n",
    "{1\\over 2} \\mathcal{N} (x; \\mu_2, \\sigma_2)  $$\n",
    "\n",
    "This is a mixture of two Gaussian distributions."
   ]
  },
  {
   "cell_type": "code",
   "execution_count": 15,
   "metadata": {},
   "outputs": [],
   "source": [
    "# So we construct the sum over all the data points of the log of two normal pdfs:\n",
    "\n",
    "def LOSS_NORMAL2(parameter2):\n",
    "    '''Sums likelihoods over y (assumed already defined) \n",
    "    for sum-of-two-equally-weighted-normal-distributions\n",
    "    with paramters mu_1, sigma_1, mu_2, and sigma_2.'''\n",
    "    assert len(parameter2) ==4  # throw an error if parameter2 has the wrong type\n",
    "    return np.sum( -np.log(\n",
    "                           scipy.stats.norm.pdf( y, loc=parameter2[0], scale=parameter2[1]) +\n",
    "                           scipy.stats.norm.pdf( y, loc=parameter2[2], scale=parameter2[3]) ))  "
   ]
  },
  {
   "cell_type": "code",
   "execution_count": 16,
   "metadata": {},
   "outputs": [
    {
     "data": {
      "text/plain": [
       "2189.586119511434"
      ]
     },
     "execution_count": 16,
     "metadata": {},
     "output_type": "execute_result"
    }
   ],
   "source": [
    "LOSS_NORMAL2([60,3.5,70,3.5])\n",
    "    "
   ]
  },
  {
   "cell_type": "code",
   "execution_count": 17,
   "metadata": {},
   "outputs": [
    {
     "data": {
      "text/plain": [
       "(2919.91165156743, 2189.586119511434, 2919.91165156743)"
      ]
     },
     "execution_count": 17,
     "metadata": {},
     "output_type": "execute_result"
    }
   ],
   "source": [
    "# Just to convince myself the sign is right.. \n",
    "LOSS_NORMAL2([0,3.5,70,3.5]), LOSS_NORMAL2([60,3.5,70,3.5]), LOSS_NORMAL2([120,3.5,70,3.5])\n"
   ]
  },
  {
   "cell_type": "code",
   "execution_count": 18,
   "metadata": {},
   "outputs": [
    {
     "data": {
      "text/plain": [
       "      fun: 1851.8674514407735\n",
       " hess_inv: array([[ 0.00783133,  0.01133038, -0.00259784,  0.0187608 ],\n",
       "       [ 0.01133038,  0.02768016, -0.00456697,  0.0397389 ],\n",
       "       [-0.00259784, -0.00456697,  0.00387407, -0.01253936],\n",
       "       [ 0.0187608 ,  0.0397389 , -0.01253936,  0.07293249]])\n",
       "      jac: array([ 0.00000000e+00, -1.52587891e-05,  1.52587891e-05,  0.00000000e+00])\n",
       "  message: 'Desired error not necessarily achieved due to precision loss.'\n",
       "     nfev: 105\n",
       "      nit: 15\n",
       "     njev: 21\n",
       "   status: 2\n",
       "  success: False\n",
       "        x: array([64.08472207,  2.2771205 , 69.42351661,  2.48216295])"
      ]
     },
     "execution_count": 18,
     "metadata": {},
     "output_type": "execute_result"
    }
   ],
   "source": [
    "minimize(LOSS_NORMAL2, [63, 2, 70, 2], method=\"BFGS\")"
   ]
  },
  {
   "cell_type": "code",
   "execution_count": 19,
   "metadata": {},
   "outputs": [
    {
     "name": "stdout",
     "output_type": "stream",
     "text": [
      "(13, 13) (13, 13) (13, 39)\n"
     ]
    }
   ],
   "source": [
    "# And now evaluate this on a grid of len(xgrid2)x len(ygrid2) to make a contour plot\n",
    "xgrid2 = np.arange(55,80,2) \n",
    "ygrid2 = np.arange(55,80,2)\n",
    "xax2, yax2 = np.meshgrid(xgrid2, ygrid2, indexing=\"ij\")\n",
    "z2 = np.zeros(xax2.shape)\n",
    "print(xax2.shape, yax2.shape, z.shape)\n",
    "for i in range(len(xgrid2)):\n",
    "    for j in range(len(ygrid2)):\n",
    "        z2[i,j]= LOSS_NORMAL2((xgrid2[i],2.27,  ygrid2[j], 2.48))\n"
   ]
  },
  {
   "cell_type": "code",
   "execution_count": 20,
   "metadata": {},
   "outputs": [
    {
     "data": {
      "text/plain": [
       "array([[55, 57, 59, 61, 63, 65, 67, 69, 71, 73, 75, 77, 79],\n",
       "       [55, 57, 59, 61, 63, 65, 67, 69, 71, 73, 75, 77, 79],\n",
       "       [55, 57, 59, 61, 63, 65, 67, 69, 71, 73, 75, 77, 79],\n",
       "       [55, 57, 59, 61, 63, 65, 67, 69, 71, 73, 75, 77, 79],\n",
       "       [55, 57, 59, 61, 63, 65, 67, 69, 71, 73, 75, 77, 79],\n",
       "       [55, 57, 59, 61, 63, 65, 67, 69, 71, 73, 75, 77, 79],\n",
       "       [55, 57, 59, 61, 63, 65, 67, 69, 71, 73, 75, 77, 79],\n",
       "       [55, 57, 59, 61, 63, 65, 67, 69, 71, 73, 75, 77, 79],\n",
       "       [55, 57, 59, 61, 63, 65, 67, 69, 71, 73, 75, 77, 79],\n",
       "       [55, 57, 59, 61, 63, 65, 67, 69, 71, 73, 75, 77, 79],\n",
       "       [55, 57, 59, 61, 63, 65, 67, 69, 71, 73, 75, 77, 79],\n",
       "       [55, 57, 59, 61, 63, 65, 67, 69, 71, 73, 75, 77, 79],\n",
       "       [55, 57, 59, 61, 63, 65, 67, 69, 71, 73, 75, 77, 79]])"
      ]
     },
     "execution_count": 20,
     "metadata": {},
     "output_type": "execute_result"
    },
    {
     "data": {
      "image/png": "[encoded data removed]",
      "text/plain": [
       "<Figure size 432x288 with 1 Axes>"
      ]
     },
     "metadata": {
      "needs_background": "light"
     },
     "output_type": "display_data"
    }
   ],
   "source": [
    "plt.contourf(xax2, yax2, np.log(z2), levels=30)\n",
    "plt.xlabel(\"Mean 1 parameter\")\n",
    "plt.ylabel(\"Mean 2 parameter\")\n",
    "yax2"
   ]
  },
  {
   "cell_type": "code",
   "execution_count": 21,
   "metadata": {},
   "outputs": [],
   "source": [
    "# This is, believe it or not, reassuring.  There are two equal \n",
    "# optima, one with mean1 = 69 and mean2 = 64, and one with \n",
    "# mean1 = 64 and mean2 = 69; these correspond to switching the \n",
    "# labels between the large and the small groups."
   ]
  },
  {
   "cell_type": "markdown",
   "metadata": {},
   "source": [
    "Some questions for thought:  \n",
    "\n",
    "* The optimizer claimed victory after only 105 evaluations of the loss function.  How many times did I evaluate the loss function to make these contour maps?\n",
    "\n",
    "* The parameter space for my function was (mean1, std1, mean2, std2), that's four dimensions.\n",
    "I plotted a two-dimensional slice, with std1 and std2 held fixed at their optmimum values.\n",
    "Do you think std1 and std1 might be correlated with mean1 and mean2?\n",
    "\n",
    "* There were two paramters (sigma_1 and sigma_2) that were .. \"similar.\"   mean_1 and mean_2 were similar, but it was clear they would chase down different parts of the distribution.  But what does it mean if sigma_1 and sigma_2 are very different?   What would happen to the fitting process if I set sigma_2 = sigma_1 ? \n",
    "\n",
    "* There was one paramter that I failed to parameterize: the mixing coefficient.  In constructing the loss function I implicitly made the weights for normal 1 and normal 2 equal.    Would I get a better or worse fit if I let the algorithm fit the probability ratio between class 1 and class 2?\n",
    "\n"
   ]
  },
  {
   "cell_type": "code",
   "execution_count": 22,
   "metadata": {},
   "outputs": [
    {
     "name": "stdout",
     "output_type": "stream",
     "text": [
      "(25, 78) (25, 78) (13, 39)\n"
     ]
    }
   ],
   "source": [
    "# One more contour plotl this one looking at mean_1 and sigma_1 while\n",
    "# the values of mean_2 and sigma_2 are kept fixed.\n",
    "xgrid3 = np.arange(55,80,1) \n",
    "ygrid3 = np.arange(0.5,20,0.25)\n",
    "xax3, yax3 = np.meshgrid(xgrid3, ygrid3, indexing=\"ij\")\n",
    "z3 = np.zeros(xax3.shape)\n",
    "print(xax3.shape, yax3.shape, z.shape)\n",
    "for i in range(len(xgrid3)):\n",
    "    for j in range(len(ygrid3)):\n",
    "        z3[i,j]= LOSS_NORMAL2((xgrid3[i],ygrid3[j] , 69.42351661 , 2.48))"
   ]
  },
  {
   "cell_type": "code",
   "execution_count": 23,
   "metadata": {},
   "outputs": [
    {
     "data": {
      "text/plain": [
       "array([[55, 57, 59, 61, 63, 65, 67, 69, 71, 73, 75, 77, 79],\n",
       "       [55, 57, 59, 61, 63, 65, 67, 69, 71, 73, 75, 77, 79],\n",
       "       [55, 57, 59, 61, 63, 65, 67, 69, 71, 73, 75, 77, 79],\n",
       "       [55, 57, 59, 61, 63, 65, 67, 69, 71, 73, 75, 77, 79],\n",
       "       [55, 57, 59, 61, 63, 65, 67, 69, 71, 73, 75, 77, 79],\n",
       "       [55, 57, 59, 61, 63, 65, 67, 69, 71, 73, 75, 77, 79],\n",
       "       [55, 57, 59, 61, 63, 65, 67, 69, 71, 73, 75, 77, 79],\n",
       "       [55, 57, 59, 61, 63, 65, 67, 69, 71, 73, 75, 77, 79],\n",
       "       [55, 57, 59, 61, 63, 65, 67, 69, 71, 73, 75, 77, 79],\n",
       "       [55, 57, 59, 61, 63, 65, 67, 69, 71, 73, 75, 77, 79],\n",
       "       [55, 57, 59, 61, 63, 65, 67, 69, 71, 73, 75, 77, 79],\n",
       "       [55, 57, 59, 61, 63, 65, 67, 69, 71, 73, 75, 77, 79],\n",
       "       [55, 57, 59, 61, 63, 65, 67, 69, 71, 73, 75, 77, 79]])"
      ]
     },
     "execution_count": 23,
     "metadata": {},
     "output_type": "execute_result"
    },
    {
     "data": {
      "image/png": "[encoded data removed]",
      "text/plain": [
       "<Figure size 432x288 with 1 Axes>"
      ]
     },
     "metadata": {
      "needs_background": "light"
     },
     "output_type": "display_data"
    }
   ],
   "source": [
    "plt.contour(xax3, yax3, np.log(z3), levels=30)\n",
    "plt.xlabel(\"Mean 1 parameter\")\n",
    "plt.ylabel(\"Std 1 parameter\")\n",
    "plt.savefig(\"2d-mu-sigma.png\", dpi=300, bbox_inches=\"tight\")\n",
    "yax2"
   ]
  },
  {
   "cell_type": "code",
   "execution_count": 24,
   "metadata": {},
   "outputs": [],
   "source": [
    "# In this part of the likelihood function, there is a bit of \n",
    "# correlation between mu1 and sigma1. \n",
    "# Correlations are typical...\n",
    "# But these have the effect that optimization of one axis at a time\n",
    "# can be difficult, because the best fit in one direction spoil\n",
    "# the fit in other directions."
   ]
  },
  {
   "cell_type": "code",
   "execution_count": 25,
   "metadata": {},
   "outputs": [],
   "source": [
    "# Warning:  this is a 2d-plane slice through a 4-dimensional likelihood \n",
    "# function, holding mu_2 and sigma_2 constant.  In general, the optimium\n",
    "# for mu_1 and sigma_1 is going to depend on these, so if I wanted to\n",
    "# see the \"real\" joint distribution of mu_1 and sigma_1 I would need\n",
    "# to find the optimium at each point or marginalize (by numerical \n",
    "# integration) to replace mu_2 and sigma_2 with probaiblity-density-informed\n",
    "# expecatation values."
   ]
  },
  {
   "cell_type": "markdown",
   "metadata": {},
   "source": [
    "$$ P_{marginal}(x) = \\int dy {P_{posterior}(x|y) P_{prior}(y) }$$"
   ]
  },
  {
   "cell_type": "code",
   "execution_count": 26,
   "metadata": {},
   "outputs": [
    {
     "ename": "NameError",
     "evalue": "name 'x' is not defined",
     "output_type": "error",
     "traceback": [
      "\u001b[0;31m---------------------------------------------------------------------------\u001b[0m",
      "\u001b[0;31mNameError\u001b[0m                                 Traceback (most recent call last)",
      "\u001b[0;32m<ipython-input-26-902a0e2facbc>\u001b[0m in \u001b[0;36m<module>\u001b[0;34m\u001b[0m\n\u001b[1;32m      2\u001b[0m \u001b[0mthetahat\u001b[0m \u001b[0;34m=\u001b[0m \u001b[0;34m[\u001b[0m\u001b[0;36m64.08472207\u001b[0m\u001b[0;34m,\u001b[0m  \u001b[0;36m2.2771205\u001b[0m \u001b[0;34m,\u001b[0m \u001b[0;36m69.42351661\u001b[0m\u001b[0;34m,\u001b[0m  \u001b[0;36m2.48216295\u001b[0m\u001b[0;34m]\u001b[0m\u001b[0;34m\u001b[0m\u001b[0;34m\u001b[0m\u001b[0m\n\u001b[1;32m      3\u001b[0m \u001b[0;31m# and that was for the function\u001b[0m\u001b[0;34m\u001b[0m\u001b[0;34m\u001b[0m\u001b[0;34m\u001b[0m\u001b[0m\n\u001b[0;32m----> 4\u001b[0;31m \u001b[0myhat\u001b[0m \u001b[0;34m=\u001b[0m \u001b[0;36m0.5\u001b[0m \u001b[0;34m*\u001b[0m \u001b[0mscipy\u001b[0m\u001b[0;34m.\u001b[0m\u001b[0mstats\u001b[0m\u001b[0;34m.\u001b[0m\u001b[0mnorm\u001b[0m\u001b[0;34m.\u001b[0m\u001b[0mpdf\u001b[0m\u001b[0;34m(\u001b[0m\u001b[0mx\u001b[0m\u001b[0;34m,\u001b[0m \u001b[0mloc\u001b[0m\u001b[0;34m=\u001b[0m\u001b[0mthetahat\u001b[0m\u001b[0;34m[\u001b[0m\u001b[0;36m0\u001b[0m\u001b[0;34m]\u001b[0m\u001b[0;34m,\u001b[0m \u001b[0mscale\u001b[0m\u001b[0;34m=\u001b[0m\u001b[0mthetahat\u001b[0m\u001b[0;34m[\u001b[0m\u001b[0;36m1\u001b[0m\u001b[0;34m]\u001b[0m\u001b[0;34m)\u001b[0m \u001b[0;34m+\u001b[0m \u001b[0;36m0.5\u001b[0m \u001b[0;34m*\u001b[0m \u001b[0mscipy\u001b[0m\u001b[0;34m.\u001b[0m\u001b[0mstats\u001b[0m\u001b[0;34m.\u001b[0m\u001b[0mnorm\u001b[0m\u001b[0;34m.\u001b[0m\u001b[0mpdf\u001b[0m\u001b[0;34m(\u001b[0m\u001b[0mx\u001b[0m\u001b[0;34m,\u001b[0m \u001b[0mloc\u001b[0m\u001b[0;34m=\u001b[0m\u001b[0mthetahat\u001b[0m\u001b[0;34m[\u001b[0m\u001b[0;36m2\u001b[0m\u001b[0;34m]\u001b[0m\u001b[0;34m,\u001b[0m \u001b[0mscale\u001b[0m\u001b[0;34m=\u001b[0m\u001b[0mthetahat\u001b[0m\u001b[0;34m[\u001b[0m\u001b[0;36m3\u001b[0m\u001b[0;34m]\u001b[0m\u001b[0;34m)\u001b[0m\u001b[0;34m\u001b[0m\u001b[0;34m\u001b[0m\u001b[0m\n\u001b[0m",
      "\u001b[0;31mNameError\u001b[0m: name 'x' is not defined"
     ]
    }
   ],
   "source": [
    "# The two-paramter fit results were\n",
    "thetahat = [64.08472207,  2.2771205 , 69.42351661,  2.48216295]\n",
    "# and that was for the function \n",
    "yhat = 0.5 * scipy.stats.norm.pdf(x, loc=thetahat[0], scale=thetahat[1]) + 0.5 * scipy.stats.norm.pdf(x, loc=thetahat[2], scale=thetahat[3])"
   ]
  },
  {
   "cell_type": "code",
   "execution_count": null,
   "metadata": {},
   "outputs": [],
   "source": [
    "x = np.arange(55,80,.1)\n",
    "yhat_g = scipy.stats.norm.pdf(x, loc=66.7459, scale=3.577)\n",
    "plt.hist(y,  bins=np.arange(55, 80))\n",
    "plt.plot(x,yhat_g *900)\n",
    "plt.plot(x, yhat*900)"
   ]
  },
  {
   "cell_type": "code",
   "execution_count": 27,
   "metadata": {},
   "outputs": [],
   "source": [
    "# So why does the data look like this?  \n",
    "# Sexual dimorphism."
   ]
  },
  {
   "cell_type": "code",
   "execution_count": 28,
   "metadata": {},
   "outputs": [
    {
     "data": {
      "text/html": [
       "<div>\n",
       "<style scoped>\n",
       "    .dataframe tbody tr th:only-of-type {\n",
       "        vertical-align: middle;\n",
       "    }\n",
       "\n",
       "    .dataframe tbody tr th {\n",
       "        vertical-align: top;\n",
       "    }\n",
       "\n",
       "    .dataframe thead th {\n",
       "        text-align: right;\n",
       "    }\n",
       "</style>\n",
       "<table border=\"1\" class=\"dataframe\">\n",
       "  <thead>\n",
       "    <tr style=\"text-align: right;\">\n",
       "      <th></th>\n",
       "      <th>family</th>\n",
       "      <th>father</th>\n",
       "      <th>mother</th>\n",
       "      <th>midparentHeight</th>\n",
       "      <th>children</th>\n",
       "      <th>childNum</th>\n",
       "      <th>gender</th>\n",
       "      <th>childHeight</th>\n",
       "    </tr>\n",
       "  </thead>\n",
       "  <tbody>\n",
       "    <tr>\n",
       "      <th>0</th>\n",
       "      <td>1</td>\n",
       "      <td>78.5</td>\n",
       "      <td>67.0</td>\n",
       "      <td>75.43</td>\n",
       "      <td>4</td>\n",
       "      <td>1</td>\n",
       "      <td>male</td>\n",
       "      <td>73.2</td>\n",
       "    </tr>\n",
       "  </tbody>\n",
       "</table>\n",
       "</div>"
      ],
      "text/plain": [
       "  family  father  mother  midparentHeight  children  childNum gender  \\\n",
       "0      1    78.5    67.0            75.43         4         1   male   \n",
       "\n",
       "   childHeight  \n",
       "0         73.2  "
      ]
     },
     "execution_count": 28,
     "metadata": {},
     "output_type": "execute_result"
    }
   ],
   "source": [
    "galton.head(1)"
   ]
  },
  {
   "cell_type": "code",
   "execution_count": 29,
   "metadata": {},
   "outputs": [],
   "source": [
    "# Create a column whose value is 1 if gender is male, 0 otherwise: \n",
    "galton[\"indicator\"] =  galton.gender == \"male\""
   ]
  },
  {
   "cell_type": "code",
   "execution_count": 30,
   "metadata": {},
   "outputs": [
    {
     "data": {
      "text/plain": [
       "Text(0.5, 0, 'Child height (in)')"
      ]
     },
     "execution_count": 30,
     "metadata": {},
     "output_type": "execute_result"
    },
    {
     "data": {
      "image/png": "[encoded data removed]",
      "text/plain": [
       "<Figure size 432x288 with 1 Axes>"
      ]
     },
     "metadata": {
      "needs_background": "light"
     },
     "output_type": "display_data"
    }
   ],
   "source": [
    "galton.groupby(by=\"indicator\").childHeight.hist(alpha=0.5, bins=np.arange(55, 80))\n",
    "plt.xlabel(\"Child height (in)\")"
   ]
  },
  {
   "cell_type": "code",
   "execution_count": 31,
   "metadata": {},
   "outputs": [
    {
     "data": {
      "text/html": [
       "<div>\n",
       "<style scoped>\n",
       "    .dataframe tbody tr th:only-of-type {\n",
       "        vertical-align: middle;\n",
       "    }\n",
       "\n",
       "    .dataframe tbody tr th {\n",
       "        vertical-align: top;\n",
       "    }\n",
       "\n",
       "    .dataframe thead th {\n",
       "        text-align: right;\n",
       "    }\n",
       "</style>\n",
       "<table border=\"1\" class=\"dataframe\">\n",
       "  <thead>\n",
       "    <tr style=\"text-align: right;\">\n",
       "      <th></th>\n",
       "      <th>count</th>\n",
       "      <th>mean</th>\n",
       "      <th>std</th>\n",
       "      <th>min</th>\n",
       "      <th>25%</th>\n",
       "      <th>50%</th>\n",
       "      <th>75%</th>\n",
       "      <th>max</th>\n",
       "    </tr>\n",
       "    <tr>\n",
       "      <th>indicator</th>\n",
       "      <th></th>\n",
       "      <th></th>\n",
       "      <th></th>\n",
       "      <th></th>\n",
       "      <th></th>\n",
       "      <th></th>\n",
       "      <th></th>\n",
       "      <th></th>\n",
       "    </tr>\n",
       "  </thead>\n",
       "  <tbody>\n",
       "    <tr>\n",
       "      <th>False</th>\n",
       "      <td>453.0</td>\n",
       "      <td>64.103974</td>\n",
       "      <td>2.355653</td>\n",
       "      <td>56.0</td>\n",
       "      <td>62.5</td>\n",
       "      <td>64.0</td>\n",
       "      <td>65.5</td>\n",
       "      <td>70.5</td>\n",
       "    </tr>\n",
       "    <tr>\n",
       "      <th>True</th>\n",
       "      <td>481.0</td>\n",
       "      <td>69.234096</td>\n",
       "      <td>2.623905</td>\n",
       "      <td>60.0</td>\n",
       "      <td>67.5</td>\n",
       "      <td>69.2</td>\n",
       "      <td>71.0</td>\n",
       "      <td>79.0</td>\n",
       "    </tr>\n",
       "  </tbody>\n",
       "</table>\n",
       "</div>"
      ],
      "text/plain": [
       "           count       mean       std   min   25%   50%   75%   max\n",
       "indicator                                                          \n",
       "False      453.0  64.103974  2.355653  56.0  62.5  64.0  65.5  70.5\n",
       "True       481.0  69.234096  2.623905  60.0  67.5  69.2  71.0  79.0"
      ]
     },
     "execution_count": 31,
     "metadata": {},
     "output_type": "execute_result"
    }
   ],
   "source": [
    "# We can get the per-category mean and standard devation\n",
    "\n",
    "# This goes by the jargon \"Class-conditional distribution\"\n",
    "# which is to say, \"All the data in class 1\"\n",
    "\n",
    "galton.groupby(by=\"indicator\").childHeight.describe()"
   ]
  },
  {
   "cell_type": "code",
   "execution_count": 32,
   "metadata": {},
   "outputs": [
    {
     "ename": "NameError",
     "evalue": "name 'x' is not defined",
     "output_type": "error",
     "traceback": [
      "\u001b[0;31m---------------------------------------------------------------------------\u001b[0m",
      "\u001b[0;31mNameError\u001b[0m                                 Traceback (most recent call last)",
      "\u001b[0;32m<ipython-input-32-ccd1a86c36e2>\u001b[0m in \u001b[0;36m<module>\u001b[0;34m\u001b[0m\n\u001b[1;32m      1\u001b[0m \u001b[0;31m# And can write down theoretical densities for normal distributions\u001b[0m\u001b[0;34m\u001b[0m\u001b[0;34m\u001b[0m\u001b[0;34m\u001b[0m\u001b[0m\n\u001b[1;32m      2\u001b[0m \u001b[0;31m# with the empirical mean and standard devation for the two classes:\u001b[0m\u001b[0;34m\u001b[0m\u001b[0;34m\u001b[0m\u001b[0;34m\u001b[0m\u001b[0m\n\u001b[0;32m----> 3\u001b[0;31m \u001b[0mdensity1\u001b[0m \u001b[0;34m=\u001b[0m \u001b[0mscipy\u001b[0m\u001b[0;34m.\u001b[0m\u001b[0mstats\u001b[0m\u001b[0;34m.\u001b[0m\u001b[0mnorm\u001b[0m\u001b[0;34m.\u001b[0m\u001b[0mpdf\u001b[0m\u001b[0;34m(\u001b[0m\u001b[0mx\u001b[0m\u001b[0;34m,\u001b[0m \u001b[0mloc\u001b[0m\u001b[0;34m=\u001b[0m\u001b[0;36m64.103974\u001b[0m\u001b[0;34m,\u001b[0m \u001b[0mscale\u001b[0m\u001b[0;34m=\u001b[0m\u001b[0;36m2.355653\u001b[0m\u001b[0;34m)\u001b[0m\u001b[0;34m\u001b[0m\u001b[0;34m\u001b[0m\u001b[0m\n\u001b[0m\u001b[1;32m      4\u001b[0m \u001b[0mdensity2\u001b[0m \u001b[0;34m=\u001b[0m \u001b[0mscipy\u001b[0m\u001b[0;34m.\u001b[0m\u001b[0mstats\u001b[0m\u001b[0;34m.\u001b[0m\u001b[0mnorm\u001b[0m\u001b[0;34m.\u001b[0m\u001b[0mpdf\u001b[0m\u001b[0;34m(\u001b[0m\u001b[0mx\u001b[0m\u001b[0;34m,\u001b[0m \u001b[0mloc\u001b[0m\u001b[0;34m=\u001b[0m\u001b[0;36m69.234096\u001b[0m\u001b[0;34m,\u001b[0m \u001b[0mscale\u001b[0m\u001b[0;34m=\u001b[0m\u001b[0;36m2.623905\u001b[0m\u001b[0;34m)\u001b[0m\u001b[0;34m\u001b[0m\u001b[0;34m\u001b[0m\u001b[0m\n",
      "\u001b[0;31mNameError\u001b[0m: name 'x' is not defined"
     ]
    }
   ],
   "source": [
    "# And can write down theoretical densities for normal distributions\n",
    "# with the empirical mean and standard devation for the two classes:\n",
    "density1 = scipy.stats.norm.pdf(x, loc=64.103974, scale=2.355653)\n",
    "density2 = scipy.stats.norm.pdf(x, loc=69.234096, scale=2.623905)"
   ]
  },
  {
   "cell_type": "code",
   "execution_count": 33,
   "metadata": {},
   "outputs": [
    {
     "ename": "NameError",
     "evalue": "name 'x' is not defined",
     "output_type": "error",
     "traceback": [
      "\u001b[0;31m---------------------------------------------------------------------------\u001b[0m",
      "\u001b[0;31mNameError\u001b[0m                                 Traceback (most recent call last)",
      "\u001b[0;32m<ipython-input-33-0af37143e68c>\u001b[0m in \u001b[0;36m<module>\u001b[0;34m\u001b[0m\n\u001b[1;32m      2\u001b[0m \u001b[0mplt\u001b[0m\u001b[0;34m.\u001b[0m\u001b[0msubplot\u001b[0m\u001b[0;34m(\u001b[0m\u001b[0;36m121\u001b[0m\u001b[0;34m)\u001b[0m\u001b[0;34m\u001b[0m\u001b[0;34m\u001b[0m\u001b[0m\n\u001b[1;32m      3\u001b[0m \u001b[0mplt\u001b[0m\u001b[0;34m.\u001b[0m\u001b[0mhist\u001b[0m\u001b[0;34m(\u001b[0m\u001b[0my\u001b[0m\u001b[0;34m,\u001b[0m  \u001b[0mbins\u001b[0m\u001b[0;34m=\u001b[0m\u001b[0mnp\u001b[0m\u001b[0;34m.\u001b[0m\u001b[0marange\u001b[0m\u001b[0;34m(\u001b[0m\u001b[0;36m55\u001b[0m\u001b[0;34m,\u001b[0m \u001b[0;36m80\u001b[0m\u001b[0;34m)\u001b[0m\u001b[0;34m)\u001b[0m\u001b[0;34m\u001b[0m\u001b[0;34m\u001b[0m\u001b[0m\n\u001b[0;32m----> 4\u001b[0;31m \u001b[0mplt\u001b[0m\u001b[0;34m.\u001b[0m\u001b[0mplot\u001b[0m\u001b[0;34m(\u001b[0m\u001b[0mx\u001b[0m\u001b[0;34m,\u001b[0m \u001b[0mnp\u001b[0m\u001b[0;34m.\u001b[0m\u001b[0marray\u001b[0m\u001b[0;34m(\u001b[0m\u001b[0;34m[\u001b[0m\u001b[0;34m(\u001b[0m\u001b[0mdensity1\u001b[0m\u001b[0;34m+\u001b[0m\u001b[0mdensity2\u001b[0m\u001b[0;34m)\u001b[0m\u001b[0;34m*\u001b[0m\u001b[0;36m450\u001b[0m \u001b[0;34m]\u001b[0m\u001b[0;34m)\u001b[0m\u001b[0;34m.\u001b[0m\u001b[0mT\u001b[0m \u001b[0;34m)\u001b[0m\u001b[0;34m\u001b[0m\u001b[0;34m\u001b[0m\u001b[0m\n\u001b[0m\u001b[1;32m      5\u001b[0m \u001b[0mplt\u001b[0m\u001b[0;34m.\u001b[0m\u001b[0msubplot\u001b[0m\u001b[0;34m(\u001b[0m\u001b[0;36m122\u001b[0m\u001b[0;34m)\u001b[0m\u001b[0;34m\u001b[0m\u001b[0;34m\u001b[0m\u001b[0m\n\u001b[1;32m      6\u001b[0m \u001b[0mplt\u001b[0m\u001b[0;34m.\u001b[0m\u001b[0mplot\u001b[0m\u001b[0;34m(\u001b[0m\u001b[0mx\u001b[0m\u001b[0;34m,\u001b[0m \u001b[0mnp\u001b[0m\u001b[0;34m.\u001b[0m\u001b[0marray\u001b[0m\u001b[0;34m(\u001b[0m\u001b[0;34m[\u001b[0m\u001b[0mdensity1\u001b[0m\u001b[0;34m*\u001b[0m\u001b[0;36m450\u001b[0m\u001b[0;34m,\u001b[0m \u001b[0mdensity2\u001b[0m\u001b[0;34m*\u001b[0m\u001b[0;36m450\u001b[0m \u001b[0;34m]\u001b[0m\u001b[0;34m)\u001b[0m\u001b[0;34m.\u001b[0m\u001b[0mT\u001b[0m \u001b[0;34m)\u001b[0m\u001b[0;34m\u001b[0m\u001b[0;34m\u001b[0m\u001b[0m\n",
      "\u001b[0;31mNameError\u001b[0m: name 'x' is not defined"
     ]
    },
    {
     "data": {
      "image/png": "[encoded data removed]",
      "text/plain": [
       "<Figure size 648x288 with 1 Axes>"
      ]
     },
     "metadata": {
      "needs_background": "light"
     },
     "output_type": "display_data"
    }
   ],
   "source": [
    "plt.figure(figsize=(9,4))\n",
    "plt.subplot(121)\n",
    "plt.hist(y,  bins=np.arange(55, 80))\n",
    "plt.plot(x, np.array([(density1+density2)*450 ]).T ) \n",
    "plt.subplot(122)\n",
    "plt.plot(x, np.array([density1*450, density2*450 ]).T ) \n",
    "galton.groupby(by=\"indicator\").childHeight.hist(alpha=0.5, bins=np.arange(55, 80))\n"
   ]
  },
  {
   "cell_type": "code",
   "execution_count": 34,
   "metadata": {},
   "outputs": [
    {
     "ename": "NameError",
     "evalue": "name 'x' is not defined",
     "output_type": "error",
     "traceback": [
      "\u001b[0;31m---------------------------------------------------------------------------\u001b[0m",
      "\u001b[0;31mNameError\u001b[0m                                 Traceback (most recent call last)",
      "\u001b[0;32m<ipython-input-34-ca5f7043e8c1>\u001b[0m in \u001b[0;36m<module>\u001b[0;34m\u001b[0m\n\u001b[1;32m      1\u001b[0m \u001b[0;31m# The best decision I can make is to pick the most likely class for each\u001b[0m\u001b[0;34m\u001b[0m\u001b[0;34m\u001b[0m\u001b[0;34m\u001b[0m\u001b[0m\n\u001b[1;32m      2\u001b[0m \u001b[0;31m# value of x\u001b[0m\u001b[0;34m\u001b[0m\u001b[0;34m\u001b[0m\u001b[0;34m\u001b[0m\u001b[0m\n\u001b[0;32m----> 3\u001b[0;31m \u001b[0mx\u001b[0m\u001b[0;34m[\u001b[0m\u001b[0mnp\u001b[0m\u001b[0;34m.\u001b[0m\u001b[0mmin\u001b[0m\u001b[0;34m(\u001b[0m\u001b[0mnp\u001b[0m\u001b[0;34m.\u001b[0m\u001b[0mwhere\u001b[0m\u001b[0;34m(\u001b[0m\u001b[0mdensity1\u001b[0m\u001b[0;34m<\u001b[0m\u001b[0mdensity2\u001b[0m\u001b[0;34m)\u001b[0m\u001b[0;34m)\u001b[0m\u001b[0;34m]\u001b[0m\u001b[0;34m\u001b[0m\u001b[0;34m\u001b[0m\u001b[0m\n\u001b[0m",
      "\u001b[0;31mNameError\u001b[0m: name 'x' is not defined"
     ]
    }
   ],
   "source": [
    "# The best decision I can make is to pick the most likely class for each \n",
    "# value of x\n",
    "x[np.min(np.where(density1<density2))]"
   ]
  },
  {
   "cell_type": "code",
   "execution_count": 35,
   "metadata": {},
   "outputs": [
    {
     "data": {
      "text/plain": [
       "classification  indicator\n",
       "False           False        421\n",
       "                True         129\n",
       "True            False         32\n",
       "                True         352\n",
       "Name: indicator, dtype: int64"
      ]
     },
     "execution_count": 35,
     "metadata": {},
     "output_type": "execute_result"
    }
   ],
   "source": [
    "# And if I classify everyone shorter than 67.7 as female, \n",
    "# this is how my predictions compare to the original labels:\n",
    "galton[\"classification\"] = galton.childHeight > 67.7 \n",
    "galton.groupby([\"classification\", \"indicator\"]).indicator.count()"
   ]
  },
  {
   "cell_type": "code",
   "execution_count": 36,
   "metadata": {},
   "outputs": [
    {
     "data": {
      "text/plain": [
       "(934, 481, 0.5149892933618844)"
      ]
     },
     "execution_count": 36,
     "metadata": {},
     "output_type": "execute_result"
    }
   ],
   "source": [
    "\n",
    "#  Correct: 773    Incorrect:  161 \n",
    "#  Errors incorrectly classified as M : 32\n",
    "#         incorrectly classified as F: 129 \n",
    "\n",
    "len(galton), galton.indicator.sum(), galton.indicator.sum()/len(galton)"
   ]
  },
  {
   "cell_type": "code",
   "execution_count": 37,
   "metadata": {},
   "outputs": [
    {
     "data": {
      "text/plain": [
       "0.8276231263383298"
      ]
     },
     "execution_count": 37,
     "metadata": {},
     "output_type": "execute_result"
    }
   ],
   "source": [
    "# overall accuracy, adjusted for nothing:\n",
    "773/934"
   ]
  },
  {
   "cell_type": "markdown",
   "metadata": {},
   "source": [
    "Bayes' rule for inferring probability of class $\\mathcal{C}_k $  ($k$ is the index that counts $r$ classes) given data $x$: \n",
    "\n",
    "$$ P(\\mathcal{C}_k | x) \\propto {P(x| \\mathcal{C}_k) P(\\mathcal{C}_k)}  $$\n",
    "\n",
    "And the probability that $x$ came from class  $\\mathcal{C}_1 $ is\n",
    "\n",
    "$$ P(\\mathcal{C}_1 | x) = {P(x| \\mathcal{C}_1) P(\\mathcal{C}_1) \\over \n",
    "\\displaystyle\\sum_{i=1}^r P(x| \\mathcal{C}_i) P(\\mathcal{C}_i) }  $$\n"
   ]
  },
  {
   "cell_type": "code",
   "execution_count": 38,
   "metadata": {},
   "outputs": [
    {
     "ename": "NameError",
     "evalue": "name 'density1' is not defined",
     "output_type": "error",
     "traceback": [
      "\u001b[0;31m---------------------------------------------------------------------------\u001b[0m",
      "\u001b[0;31mNameError\u001b[0m                                 Traceback (most recent call last)",
      "\u001b[0;32m<ipython-input-38-6409dd38fc80>\u001b[0m in \u001b[0;36m<module>\u001b[0;34m\u001b[0m\n\u001b[1;32m      2\u001b[0m \u001b[0;31m# in class 1 or class 2 as a function of x:\u001b[0m\u001b[0;34m\u001b[0m\u001b[0;34m\u001b[0m\u001b[0;34m\u001b[0m\u001b[0m\n\u001b[1;32m      3\u001b[0m \u001b[0;34m\u001b[0m\u001b[0m\n\u001b[0;32m----> 4\u001b[0;31m \u001b[0mp_class1\u001b[0m \u001b[0;34m=\u001b[0m \u001b[0mdensity1\u001b[0m \u001b[0;34m/\u001b[0m\u001b[0;34m(\u001b[0m\u001b[0mdensity1\u001b[0m \u001b[0;34m+\u001b[0m \u001b[0mdensity2\u001b[0m\u001b[0;34m)\u001b[0m\u001b[0;34m\u001b[0m\u001b[0;34m\u001b[0m\u001b[0m\n\u001b[0m\u001b[1;32m      5\u001b[0m \u001b[0mp_class2\u001b[0m \u001b[0;34m=\u001b[0m \u001b[0mdensity2\u001b[0m \u001b[0;34m/\u001b[0m\u001b[0;34m(\u001b[0m\u001b[0mdensity1\u001b[0m \u001b[0;34m+\u001b[0m \u001b[0mdensity2\u001b[0m\u001b[0;34m)\u001b[0m\u001b[0;34m\u001b[0m\u001b[0;34m\u001b[0m\u001b[0m\n\u001b[1;32m      6\u001b[0m \u001b[0;34m\u001b[0m\u001b[0m\n",
      "\u001b[0;31mNameError\u001b[0m: name 'density1' is not defined"
     ]
    }
   ],
   "source": [
    "# If I want a graph of my model's posterior probability of being\n",
    "# in class 1 or class 2 as a function of x: \n",
    "\n",
    "p_class1 = density1 /(density1 + density2)\n",
    "p_class2 = density2 /(density1 + density2)\n",
    "\n",
    "plt.plot(x,p_class1)\n",
    "plt.plot(x,p_class2) \n",
    "plt.ylabel(\"Posterior probablity of class | x\")\n",
    "plt.xlabel(\"child Height (in)\")"
   ]
  },
  {
   "cell_type": "code",
   "execution_count": 39,
   "metadata": {},
   "outputs": [
    {
     "ename": "NameError",
     "evalue": "name 'x' is not defined",
     "output_type": "error",
     "traceback": [
      "\u001b[0;31m---------------------------------------------------------------------------\u001b[0m",
      "\u001b[0;31mNameError\u001b[0m                                 Traceback (most recent call last)",
      "\u001b[0;32m<ipython-input-39-c109885f73a2>\u001b[0m in \u001b[0;36m<module>\u001b[0;34m\u001b[0m\n\u001b[0;32m----> 1\u001b[0;31m \u001b[0mplt\u001b[0m\u001b[0;34m.\u001b[0m\u001b[0mplot\u001b[0m\u001b[0;34m(\u001b[0m\u001b[0mx\u001b[0m\u001b[0;34m,\u001b[0m \u001b[0mnp\u001b[0m\u001b[0;34m.\u001b[0m\u001b[0marray\u001b[0m\u001b[0;34m(\u001b[0m\u001b[0;34m[\u001b[0m\u001b[0mdensity1\u001b[0m\u001b[0;34m*\u001b[0m\u001b[0;36m450\u001b[0m\u001b[0;34m,\u001b[0m \u001b[0mdensity2\u001b[0m\u001b[0;34m*\u001b[0m\u001b[0;36m450\u001b[0m \u001b[0;34m]\u001b[0m\u001b[0;34m)\u001b[0m\u001b[0;34m.\u001b[0m\u001b[0mT\u001b[0m \u001b[0;34m)\u001b[0m\u001b[0;34m\u001b[0m\u001b[0;34m\u001b[0m\u001b[0m\n\u001b[0m\u001b[1;32m      2\u001b[0m \u001b[0mgalton\u001b[0m\u001b[0;34m.\u001b[0m\u001b[0mgroupby\u001b[0m\u001b[0;34m(\u001b[0m\u001b[0mby\u001b[0m\u001b[0;34m=\u001b[0m\u001b[0;34m\"indicator\"\u001b[0m\u001b[0;34m)\u001b[0m\u001b[0;34m.\u001b[0m\u001b[0mchildHeight\u001b[0m\u001b[0;34m.\u001b[0m\u001b[0mhist\u001b[0m\u001b[0;34m(\u001b[0m\u001b[0malpha\u001b[0m\u001b[0;34m=\u001b[0m\u001b[0;36m0.5\u001b[0m\u001b[0;34m,\u001b[0m \u001b[0mbins\u001b[0m\u001b[0;34m=\u001b[0m\u001b[0mnp\u001b[0m\u001b[0;34m.\u001b[0m\u001b[0marange\u001b[0m\u001b[0;34m(\u001b[0m\u001b[0;36m55\u001b[0m\u001b[0;34m,\u001b[0m \u001b[0;36m80\u001b[0m\u001b[0;34m)\u001b[0m\u001b[0;34m)\u001b[0m\u001b[0;34m\u001b[0m\u001b[0;34m\u001b[0m\u001b[0m\n\u001b[1;32m      3\u001b[0m \u001b[0mplt\u001b[0m\u001b[0;34m.\u001b[0m\u001b[0mplot\u001b[0m\u001b[0;34m(\u001b[0m\u001b[0;34m[\u001b[0m\u001b[0;36m66.7\u001b[0m\u001b[0;34m,\u001b[0m\u001b[0;36m66.7\u001b[0m\u001b[0;34m]\u001b[0m\u001b[0;34m,\u001b[0m \u001b[0;34m[\u001b[0m\u001b[0;36m0\u001b[0m\u001b[0;34m,\u001b[0m\u001b[0;36m80\u001b[0m\u001b[0;34m]\u001b[0m\u001b[0;34m)\u001b[0m\u001b[0;34m\u001b[0m\u001b[0;34m\u001b[0m\u001b[0m\n\u001b[1;32m      4\u001b[0m \u001b[0mplt\u001b[0m\u001b[0;34m.\u001b[0m\u001b[0mxlabel\u001b[0m\u001b[0;34m(\u001b[0m\u001b[0;34m\"Child height (in)\"\u001b[0m\u001b[0;34m)\u001b[0m\u001b[0;34m\u001b[0m\u001b[0;34m\u001b[0m\u001b[0m\n",
      "\u001b[0;31mNameError\u001b[0m: name 'x' is not defined"
     ]
    }
   ],
   "source": [
    "plt.plot(x, np.array([density1*450, density2*450 ]).T ) \n",
    "galton.groupby(by=\"indicator\").childHeight.hist(alpha=0.5, bins=np.arange(55, 80))\n",
    "plt.plot([66.7,66.7], [0,80])\n",
    "plt.xlabel(\"Child height (in)\")"
   ]
  },
  {
   "cell_type": "markdown",
   "metadata": {},
   "source": []
  },
  {
   "cell_type": "code",
   "execution_count": 40,
   "metadata": {},
   "outputs": [],
   "source": [
    "def find_fpr_fnr(threshold):\n",
    "    a = galton.query(\"(indicator == 0) & childHeight <= @threshold\").childHeight.count()\n",
    "    b = galton.query(\"(indicator == 0) & childHeight > @threshold\").childHeight.count()\n",
    "    c = galton.query(\"(indicator == 1) & childHeight <= @threshold\").childHeight.count()\n",
    "    d = galton.query(\"(indicator == 1) & childHeight > @threshold\").childHeight.count()\n",
    "    print(threshold, a,b,c,d)\n",
    "    return (b / (a+b) , c / (c+d) ) "
   ]
  },
  {
   "cell_type": "code",
   "execution_count": 46,
   "metadata": {},
   "outputs": [
    {
     "name": "stdout",
     "output_type": "stream",
     "text": [
      "62 102 351 1 480\n"
     ]
    },
    {
     "data": {
      "text/plain": [
       "(0.7748344370860927, 0.002079002079002079)"
      ]
     },
     "execution_count": 46,
     "metadata": {},
     "output_type": "execute_result"
    }
   ],
   "source": [
    "find_fpr_fnr(62)"
   ]
  },
  {
   "cell_type": "code",
   "execution_count": 47,
   "metadata": {},
   "outputs": [
    {
     "name": "stdout",
     "output_type": "stream",
     "text": [
      "50 0 453 0 481\n",
      "51 0 453 0 481\n",
      "52 0 453 0 481\n",
      "53 0 453 0 481\n",
      "54 0 453 0 481\n",
      "55 0 453 0 481\n",
      "56 1 452 0 481\n",
      "57 3 450 0 481\n",
      "58 5 448 0 481\n",
      "59 6 447 0 481\n",
      "60 24 429 1 480\n",
      "61 49 404 1 480\n",
      "62 102 351 1 480\n",
      "63 172 281 7 474\n",
      "64 241 212 15 466\n",
      "65 315 138 35 446\n",
      "66 379 74 70 411\n",
      "67 411 42 117 364\n",
      "68 434 19 174 307\n",
      "69 445 8 237 244\n",
      "70 450 3 308 173\n",
      "71 453 0 381 100\n",
      "72 453 0 432 49\n",
      "73 453 0 460 21\n",
      "74 453 0 472 9\n",
      "75 453 0 477 4\n",
      "76 453 0 478 3\n",
      "77 453 0 479 2\n",
      "78 453 0 480 1\n",
      "79 453 0 481 0\n"
     ]
    }
   ],
   "source": [
    "trange = range(50,80)\n",
    "fprfnr = np.array([find_fpr_fnr(threshold) for threshold in trange])"
   ]
  },
  {
   "cell_type": "code",
   "execution_count": 48,
   "metadata": {},
   "outputs": [
    {
     "name": "stdout",
     "output_type": "stream",
     "text": [
      "1.0 1.0 50\n",
      "1.0 1.0 51\n",
      "1.0 1.0 52\n",
      "1.0 1.0 53\n",
      "1.0 1.0 54\n",
      "1.0 1.0 55\n",
      "0.9977924944812362 1.0 56\n",
      "0.9933774834437086 1.0 57\n",
      "0.9889624724061811 1.0 58\n",
      "0.9867549668874173 1.0 59\n",
      "0.9470198675496688 0.997920997920998 60\n",
      "0.891832229580574 0.997920997920998 61\n",
      "0.7748344370860927 0.997920997920998 62\n",
      "0.6203090507726269 0.9854469854469854 63\n",
      "0.46799116997792495 0.9688149688149688 64\n",
      "0.304635761589404 0.9272349272349272 65\n",
      "0.16335540838852097 0.8544698544698545 66\n",
      "0.09271523178807947 0.7567567567567568 67\n",
      "0.04194260485651214 0.6382536382536382 68\n",
      "0.017660044150110375 0.5072765072765073 69\n",
      "0.006622516556291391 0.35966735966735963 70\n",
      "0.0 0.2079002079002079 71\n",
      "0.0 0.10187110187110182 72\n",
      "0.0 0.043659043659043606 73\n",
      "0.0 0.018711018711018657 74\n",
      "0.0 0.008316008316008316 75\n",
      "0.0 0.006237006237006182 76\n",
      "0.0 0.004158004158004158 77\n",
      "0.0 0.0020790020790020236 78\n",
      "0.0 0.0 79\n"
     ]
    },
    {
     "data": {
      "text/plain": [
       "(0.0, 1.0)"
      ]
     },
     "execution_count": 48,
     "metadata": {},
     "output_type": "execute_result"
    },
    {
     "data": {
      "image/png": "[encoded data removed]",
      "text/plain": [
       "<Figure size 720x720 with 1 Axes>"
      ]
     },
     "metadata": {
      "needs_background": "light"
     },
     "output_type": "display_data"
    }
   ],
   "source": [
    "fig, ax = plt.subplots(figsize=(10,10))\n",
    "plt.plot(fprfnr[:,0], 1-fprfnr[:,1]) \n",
    "for x,y,z in zip (fprfnr[:,0], 1-np.array(fprfnr[:,1]) , list(map(str, trange))):\n",
    "    print (x,y,z)\n",
    "    ax.text(x, y, z)\n",
    "plt.xlim([0,1])\n",
    "plt.ylim([0,1])"
   ]
  },
  {
   "cell_type": "code",
   "execution_count": 49,
   "metadata": {},
   "outputs": [
    {
     "name": "stdout",
     "output_type": "stream",
     "text": [
      "1.0 1.0 50\n",
      "1.0 1.0 51\n",
      "1.0 1.0 52\n",
      "1.0 1.0 53\n",
      "1.0 1.0 54\n",
      "1.0 1.0 55\n",
      "0.9977924944812362 1.0 56\n",
      "0.9933774834437086 1.0 57\n",
      "0.9889624724061811 1.0 58\n",
      "0.9867549668874173 1.0 59\n",
      "0.9470198675496688 0.997920997920998 60\n",
      "0.891832229580574 0.997920997920998 61\n",
      "0.7748344370860927 0.997920997920998 62\n",
      "0.6203090507726269 0.9854469854469854 63\n",
      "0.46799116997792495 0.9688149688149688 64\n",
      "0.304635761589404 0.9272349272349272 65\n",
      "0.16335540838852097 0.8544698544698545 66\n",
      "0.09271523178807947 0.7567567567567568 67\n",
      "0.04194260485651214 0.6382536382536382 68\n",
      "0.017660044150110375 0.5072765072765073 69\n",
      "0.006622516556291391 0.35966735966735963 70\n",
      "0.0 0.2079002079002079 71\n",
      "0.0 0.10187110187110182 72\n",
      "0.0 0.043659043659043606 73\n",
      "0.0 0.018711018711018657 74\n",
      "0.0 0.008316008316008316 75\n",
      "0.0 0.006237006237006182 76\n",
      "0.0 0.004158004158004158 77\n",
      "0.0 0.0020790020790020236 78\n",
      "0.0 0.0 79\n"
     ]
    },
    {
     "data": {
      "text/plain": [
       "(0.0, 1.0)"
      ]
     },
     "execution_count": 49,
     "metadata": {},
     "output_type": "execute_result"
    },
    {
     "data": {
      "image/png": "[encoded data removed]",
      "text/plain": [
       "<Figure size 720x720 with 1 Axes>"
      ]
     },
     "metadata": {
      "needs_background": "light"
     },
     "output_type": "display_data"
    }
   ],
   "source": [
    "fig, ax = plt.subplots(figsize=(10,10))\n",
    "plt.step(fprfnr[:,0], 1-fprfnr[:,1]) \n",
    "for x,y,z in zip (fprfnr[:,0], 1-np.array(fprfnr[:,1]) , list(map(str, trange))):\n",
    "    print (x,y,z)\n",
    "    ax.text(x, y, z)\n",
    "plt.xlim([0,1])\n",
    "plt.ylim([0,1])\n",
    "#plt.xlabel(\"1-sensitivity\")"
   ]
  },
  {
   "cell_type": "code",
   "execution_count": 45,
   "metadata": {},
   "outputs": [
    {
     "name": "stdout",
     "output_type": "stream",
     "text": [
      "66.7 394 59 82 399\n"
     ]
    },
    {
     "data": {
      "text/plain": [
       "(0.13024282560706402, 0.1704781704781705)"
      ]
     },
     "execution_count": 45,
     "metadata": {},
     "output_type": "execute_result"
    }
   ],
   "source": [
    "find_fpr_fnr(66.7)"
   ]
  },
  {
   "cell_type": "code",
   "execution_count": null,
   "metadata": {},
   "outputs": [],
   "source": []
  },
  {
   "cell_type": "code",
   "execution_count": null,
   "metadata": {},
   "outputs": [],
   "source": []
  },
  {
   "cell_type": "code",
   "execution_count": null,
   "metadata": {},
   "outputs": [],
   "source": []
  },
  {
   "cell_type": "code",
   "execution_count": null,
   "metadata": {},
   "outputs": [],
   "source": []
  }
 ],
 "metadata": {
  "kernelspec": {
   "display_name": "Python 3 (ipykernel)",
   "language": "python",
   "name": "python3"
  },
  "language_info": {
   "codemirror_mode": {
    "name": "ipython",
    "version": 3
   },
   "file_extension": ".py",
   "mimetype": "text/x-python",
   "name": "python",
   "nbconvert_exporter": "python",
   "pygments_lexer": "ipython3",
   "version": "3.9.13"
  }
 },
 "nbformat": 4,
 "nbformat_minor": 4
}
